{
  "nbformat": 4,
  "nbformat_minor": 0,
  "metadata": {
    "colab": {
      "provenance": [],
      "authorship_tag": "ABX9TyPTHkUWEOTw1TFnRxn7xGI7",
      "include_colab_link": true
    },
    "kernelspec": {
      "name": "python3",
      "display_name": "Python 3"
    },
    "language_info": {
      "name": "python"
    }
  },
  "cells": [
    {
      "cell_type": "markdown",
      "metadata": {
        "id": "view-in-github",
        "colab_type": "text"
      },
      "source": [
        "<a href=\"https://colab.research.google.com/github/walterwhites/machine_learning/blob/main/Simple_Country_classification.ipynb\" target=\"_parent\"><img src=\"https://colab.research.google.com/assets/colab-badge.svg\" alt=\"Open In Colab\"/></a>"
      ]
    },
    {
      "cell_type": "code",
      "execution_count": 1,
      "metadata": {
        "colab": {
          "base_uri": "https://localhost:8080/"
        },
        "id": "MiHq5EgSZ72T",
        "outputId": "dc1391d8-08c5-482e-896f-56689f6ecc5b"
      },
      "outputs": [
        {
          "output_type": "stream",
          "name": "stdout",
          "text": [
            "--2023-06-22 18:02:27--  https://gist.githubusercontent.com/walterwhites/9675c8ee7de33c7289b78fc003dc75ad/raw/aaf90922f551bd00207c9e8115a3130f02ada11d/firstname_country_2.csv\n",
            "Resolving gist.githubusercontent.com (gist.githubusercontent.com)... 185.199.108.133, 185.199.109.133, 185.199.110.133, ...\n",
            "Connecting to gist.githubusercontent.com (gist.githubusercontent.com)|185.199.108.133|:443... connected.\n",
            "HTTP request sent, awaiting response... 200 OK\n",
            "Length: 1325 (1.3K) [text/plain]\n",
            "Saving to: ‘firstname_country_2.csv’\n",
            "\n",
            "\rfirstname_country_2   0%[                    ]       0  --.-KB/s               \rfirstname_country_2 100%[===================>]   1.29K  --.-KB/s    in 0s      \n",
            "\n",
            "2023-06-22 18:02:27 (77.5 MB/s) - ‘firstname_country_2.csv’ saved [1325/1325]\n",
            "\n",
            "0.8709677419354839\n"
          ]
        },
        {
          "output_type": "execute_result",
          "data": {
            "text/plain": [
              "0.9133333333333333"
            ]
          },
          "metadata": {},
          "execution_count": 1
        }
      ],
      "source": [
        "import pandas as pd\n",
        "import numpy as np\n",
        "\n",
        "!wget -cv https://gist.githubusercontent.com/walterwhites/9675c8ee7de33c7289b78fc003dc75ad/raw/aaf90922f551bd00207c9e8115a3130f02ada11d/firstname_country_2.csv\n",
        "df = pd.read_csv('firstname_country_2.csv')\n",
        "\n",
        "X = df.loc[:, df.columns != 'country'].to_numpy()\n",
        "Y = df['country']\n",
        "features = np.empty((X.shape[0], 3))\n",
        "\n",
        "def check_multiple_consonants(word):\n",
        "    consonants = 'bcdfghjklmnpqrstvwxyz'\n",
        "    count = 2\n",
        "    for i in range(len(word) - 2):\n",
        "        if word[i] in consonants and word[i+1] in consonants:\n",
        "            count *= count\n",
        "    return count\n",
        "\n",
        "def calculate_vowel_consonant_ratio(name):\n",
        "    vowels = 'aeiouy'\n",
        "    vowel_count = sum(1 for letter in name.lower() if letter in vowels)\n",
        "    consonant_count = len(name) - vowel_count\n",
        "    ratio = vowel_count / consonant_count if consonant_count != 0 else 0\n",
        "    return ratio\n",
        "\n",
        "def detect_terminations(word):\n",
        "    terminations = [\"ko\", \"hi\", \"ta\", \"ka\", \"to\", \"ei\", \"ra\", \"ru\", \"re\", \"ke\"]\n",
        "\n",
        "    for termination in terminations:\n",
        "        if word.endswith(termination):\n",
        "            return 1\n",
        "    return 0\n",
        "\n",
        "for i, row in enumerate(X):\n",
        "    name = row[0]\n",
        "\n",
        "    multiple_consonants = check_multiple_consonants(name)\n",
        "    ratio = calculate_vowel_consonant_ratio(name)\n",
        "    terminations = detect_terminations(name)\n",
        "\n",
        "    features[i] = [multiple_consonants, ratio, terminations]\n",
        "\n",
        "data_with_features = np.concatenate((X, features), axis=1)\n",
        "\n",
        "# Remove the first name column (we will not use it to make predictions)\n",
        "data_with_features = np.delete(data_with_features, 0, axis=1)\n",
        "\n",
        "\n",
        "from sklearn.model_selection import train_test_split\n",
        "X_train, X_test, Y_train, Y_test = train_test_split(data_with_features, Y, test_size=0.33, random_state=42)\n",
        "\n",
        "from sklearn.linear_model import LogisticRegression\n",
        "clf = LogisticRegression(random_state=0)\n",
        "clf.fit(X_train, Y_train)\n",
        "y_pred = clf.predict(X_test)\n",
        "\n",
        "from sklearn.metrics import accuracy_score\n",
        "print(accuracy_score(Y_test, y_pred))\n",
        "\n",
        "from sklearn.linear_model import LogisticRegression\n",
        "from sklearn.model_selection import cross_val_score\n",
        "\n",
        "clf = LogisticRegression()\n",
        "scores = cross_val_score(clf, data_with_features, Y, cv=10)\n",
        "np.mean(scores)"
      ]
    }
  ]
}