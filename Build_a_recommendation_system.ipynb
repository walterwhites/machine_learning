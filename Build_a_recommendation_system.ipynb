{
  "nbformat": 4,
  "nbformat_minor": 0,
  "metadata": {
    "colab": {
      "provenance": [],
      "authorship_tag": "ABX9TyOKakjSyd17qvwtE+/y37IJ",
      "include_colab_link": true
    },
    "kernelspec": {
      "name": "python3",
      "display_name": "Python 3"
    },
    "language_info": {
      "name": "python"
    }
  },
  "cells": [
    {
      "cell_type": "markdown",
      "metadata": {
        "id": "view-in-github",
        "colab_type": "text"
      },
      "source": [
        "<a href=\"https://colab.research.google.com/github/walterwhites/machine_learning/blob/main/Build_a_recommendation_system.ipynb\" target=\"_parent\"><img src=\"https://colab.research.google.com/assets/colab-badge.svg\" alt=\"Open In Colab\"/></a>"
      ]
    },
    {
      "cell_type": "markdown",
      "source": [
        "### Step 1 Exploration / Exploitation"
      ],
      "metadata": {
        "id": "FOsWRHNf1g9T"
      }
    },
    {
      "cell_type": "markdown",
      "source": [
        "## 1.1 Prepare categories"
      ],
      "metadata": {
        "id": "t4oBlWw58PSt"
      }
    },
    {
      "cell_type": "code",
      "source": [
        "import numpy as np\n",
        "\n",
        "# Categories / Arms\n",
        "arms = ['Kittens', 'Puppies', 'Lion cubs']\n",
        "\n",
        "# Purchase rates for each arm\n",
        "purchase_rates = [0.08, 0.06, 0.1]\n",
        "\n",
        "success_count = {arm: 0 for arm in arms}\n",
        "total_count = {arm: 0 for arm in arms}"
      ],
      "metadata": {
        "id": "HPxAZTgO8E5O"
      },
      "execution_count": null,
      "outputs": []
    },
    {
      "cell_type": "markdown",
      "source": [
        "## 1.2 simulate customer action"
      ],
      "metadata": {
        "id": "IEsbmvY28SkG"
      }
    },
    {
      "cell_type": "code",
      "execution_count": null,
      "metadata": {
        "colab": {
          "base_uri": "https://localhost:8080/"
        },
        "id": "Em8yu1lMjfHR",
        "outputId": "cee802e0-f375-4fda-807f-79c72b0e2744"
      },
      "outputs": [
        {
          "output_type": "stream",
          "name": "stdout",
          "text": [
            "{'Kittens': 4095, 'Puppies': 1253, 'Lion cubs': 16501, 'Pandas': 13829}\n",
            "{'Kittens': 60978, 'Puppies': 60441, 'Lion cubs': 208801, 'Pandas': 69780}\n"
          ]
        }
      ],
      "source": [
        "# Simulate customer actions\n",
        "def simulate_customer_action(selected_arm):\n",
        "    # Return the result (1 for successful purchase, 0 for unsuccessful purchase)\n",
        "    # Simulate customer action based on probability (purchase rate)\n",
        "    return np.random.choice([0, 1], p=[1 - purchase_rates[selected_arm], purchase_rates[selected_arm]])\n",
        "\n",
        "# Exploration factor\n",
        "exp_ratio = 0.5\n",
        "\n",
        "for i in range(100000):\n",
        "    # Exploration\n",
        "  if np.random.random() < exp_ratio:  # Perform as much Exploration than Exploitation, Exploitation factor = 1\n",
        "      selected_arm = np.random.choice(range(len(arms)))\n",
        "  else:\n",
        "      # Exploitation\n",
        "      selected_arm = np.argmax([success_count[arm] / total_count[arm] if total_count[arm] > 0 else 0 for arm in arms])\n",
        "\n",
        "  # Simulate customer action and observe the result\n",
        "  result = simulate_customer_action(selected_arm)\n",
        "  success_count[arms[selected_arm]] += result\n",
        "  total_count[arms[selected_arm]] += 1\n",
        "\n",
        "  # Update purchase rates every 500 iterations\n",
        "  if i % 500 == 0 and i != 0:\n",
        "    for j, arm in enumerate(arms):\n",
        "      if total_count[arm] > 0:\n",
        "        purchase_rates[j] = success_count[arm] / total_count[arm]\n",
        "\n",
        "\n",
        "print(success_count)\n",
        "print(total_count)"
      ]
    },
    {
      "cell_type": "markdown",
      "source": [
        "### Step 2 Result\n"
      ],
      "metadata": {
        "id": "8xyiI0Wq1bVM"
      }
    },
    {
      "cell_type": "code",
      "source": [
        "# Calculate the success rate (purchase rate) for each arm\n",
        "success_rate = {arm: success_count[arm] / total_count[arm] for arm in arms}\n",
        "\n",
        "# Select the arm with the highest success rate\n",
        "selected_arm = max(success_rate, key=success_rate.get)\n",
        "\n",
        "print(success_rate)\n",
        "print(selected_arm)\n"
      ],
      "metadata": {
        "colab": {
          "base_uri": "https://localhost:8080/"
        },
        "id": "B4bI2ly21azd",
        "outputId": "17d0f2dc-6299-4076-af73-1297e3459ad0"
      },
      "execution_count": null,
      "outputs": [
        {
          "output_type": "stream",
          "name": "stdout",
          "text": [
            "{'Kittens': 0.06715536750959362, 'Puppies': 0.02073096077166162, 'Lion cubs': 0.07902739929406469, 'Pandas': 0.19817999426769847}\n",
            "Pandas\n"
          ]
        }
      ]
    },
    {
      "cell_type": "markdown",
      "source": [
        "### Continuous Learning"
      ],
      "metadata": {
        "id": "lRwqVSth17Eg"
      }
    },
    {
      "cell_type": "code",
      "source": [
        "# Introduce a new arm, Pandas\n",
        "arms.append('Pandas')\n",
        "\n",
        "# Update the counts for the new arm\n",
        "success_count['Pandas'] = 0\n",
        "total_count['Pandas'] = 0\n",
        "purchase_rates.append(0.2) # Set a default purchase rate\n",
        "\n",
        "# Repeat from step 1.2 with the new arm"
      ],
      "metadata": {
        "id": "N6HUq_Fi16ra"
      },
      "execution_count": null,
      "outputs": []
    }
  ]
}